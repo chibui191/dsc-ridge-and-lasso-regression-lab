{
 "cells": [
  {
   "cell_type": "markdown",
   "metadata": {},
   "source": [
    "# Ridge and Lasso Regression - Lab"
   ]
  },
  {
   "cell_type": "markdown",
   "metadata": {},
   "source": [
    "## Introduction"
   ]
  },
  {
   "cell_type": "markdown",
   "metadata": {},
   "source": [
    "In this lab, you'll practice your knowledge of Ridge and Lasso regression!"
   ]
  },
  {
   "cell_type": "markdown",
   "metadata": {},
   "source": [
    "## Objectives"
   ]
  },
  {
   "cell_type": "markdown",
   "metadata": {},
   "source": [
    "In this lab you will: \n",
    "\n",
    "- Use Lasso and Ridge regression with scikit-learn \n",
    "- Compare and contrast Lasso, Ridge and non-regularized regression "
   ]
  },
  {
   "cell_type": "markdown",
   "metadata": {},
   "source": [
    "## Housing Prices Data"
   ]
  },
  {
   "cell_type": "markdown",
   "metadata": {},
   "source": [
    "Let's look at yet another house pricing dataset: "
   ]
  },
  {
   "cell_type": "code",
   "execution_count": 1,
   "metadata": {},
   "outputs": [],
   "source": [
    "import pandas as pd\n",
    "import numpy as np\n",
    "from sklearn.model_selection import train_test_split\n",
    "import warnings\n",
    "warnings.filterwarnings('ignore')\n",
    "\n",
    "df = pd.read_csv('Housing_Prices/train.csv')"
   ]
  },
  {
   "cell_type": "markdown",
   "metadata": {},
   "source": [
    "Look at `.info()` of the data: "
   ]
  },
  {
   "cell_type": "code",
   "execution_count": 2,
   "metadata": {
    "scrolled": true
   },
   "outputs": [
    {
     "name": "stdout",
     "output_type": "stream",
     "text": [
      "<class 'pandas.core.frame.DataFrame'>\n",
      "RangeIndex: 1460 entries, 0 to 1459\n",
      "Data columns (total 81 columns):\n",
      " #   Column         Non-Null Count  Dtype  \n",
      "---  ------         --------------  -----  \n",
      " 0   Id             1460 non-null   int64  \n",
      " 1   MSSubClass     1460 non-null   int64  \n",
      " 2   MSZoning       1460 non-null   object \n",
      " 3   LotFrontage    1201 non-null   float64\n",
      " 4   LotArea        1460 non-null   int64  \n",
      " 5   Street         1460 non-null   object \n",
      " 6   Alley          91 non-null     object \n",
      " 7   LotShape       1460 non-null   object \n",
      " 8   LandContour    1460 non-null   object \n",
      " 9   Utilities      1460 non-null   object \n",
      " 10  LotConfig      1460 non-null   object \n",
      " 11  LandSlope      1460 non-null   object \n",
      " 12  Neighborhood   1460 non-null   object \n",
      " 13  Condition1     1460 non-null   object \n",
      " 14  Condition2     1460 non-null   object \n",
      " 15  BldgType       1460 non-null   object \n",
      " 16  HouseStyle     1460 non-null   object \n",
      " 17  OverallQual    1460 non-null   int64  \n",
      " 18  OverallCond    1460 non-null   int64  \n",
      " 19  YearBuilt      1460 non-null   int64  \n",
      " 20  YearRemodAdd   1460 non-null   int64  \n",
      " 21  RoofStyle      1460 non-null   object \n",
      " 22  RoofMatl       1460 non-null   object \n",
      " 23  Exterior1st    1460 non-null   object \n",
      " 24  Exterior2nd    1460 non-null   object \n",
      " 25  MasVnrType     1452 non-null   object \n",
      " 26  MasVnrArea     1452 non-null   float64\n",
      " 27  ExterQual      1460 non-null   object \n",
      " 28  ExterCond      1460 non-null   object \n",
      " 29  Foundation     1460 non-null   object \n",
      " 30  BsmtQual       1423 non-null   object \n",
      " 31  BsmtCond       1423 non-null   object \n",
      " 32  BsmtExposure   1422 non-null   object \n",
      " 33  BsmtFinType1   1423 non-null   object \n",
      " 34  BsmtFinSF1     1460 non-null   int64  \n",
      " 35  BsmtFinType2   1422 non-null   object \n",
      " 36  BsmtFinSF2     1460 non-null   int64  \n",
      " 37  BsmtUnfSF      1460 non-null   int64  \n",
      " 38  TotalBsmtSF    1460 non-null   int64  \n",
      " 39  Heating        1460 non-null   object \n",
      " 40  HeatingQC      1460 non-null   object \n",
      " 41  CentralAir     1460 non-null   object \n",
      " 42  Electrical     1459 non-null   object \n",
      " 43  1stFlrSF       1460 non-null   int64  \n",
      " 44  2ndFlrSF       1460 non-null   int64  \n",
      " 45  LowQualFinSF   1460 non-null   int64  \n",
      " 46  GrLivArea      1460 non-null   int64  \n",
      " 47  BsmtFullBath   1460 non-null   int64  \n",
      " 48  BsmtHalfBath   1460 non-null   int64  \n",
      " 49  FullBath       1460 non-null   int64  \n",
      " 50  HalfBath       1460 non-null   int64  \n",
      " 51  BedroomAbvGr   1460 non-null   int64  \n",
      " 52  KitchenAbvGr   1460 non-null   int64  \n",
      " 53  KitchenQual    1460 non-null   object \n",
      " 54  TotRmsAbvGrd   1460 non-null   int64  \n",
      " 55  Functional     1460 non-null   object \n",
      " 56  Fireplaces     1460 non-null   int64  \n",
      " 57  FireplaceQu    770 non-null    object \n",
      " 58  GarageType     1379 non-null   object \n",
      " 59  GarageYrBlt    1379 non-null   float64\n",
      " 60  GarageFinish   1379 non-null   object \n",
      " 61  GarageCars     1460 non-null   int64  \n",
      " 62  GarageArea     1460 non-null   int64  \n",
      " 63  GarageQual     1379 non-null   object \n",
      " 64  GarageCond     1379 non-null   object \n",
      " 65  PavedDrive     1460 non-null   object \n",
      " 66  WoodDeckSF     1460 non-null   int64  \n",
      " 67  OpenPorchSF    1460 non-null   int64  \n",
      " 68  EnclosedPorch  1460 non-null   int64  \n",
      " 69  3SsnPorch      1460 non-null   int64  \n",
      " 70  ScreenPorch    1460 non-null   int64  \n",
      " 71  PoolArea       1460 non-null   int64  \n",
      " 72  PoolQC         7 non-null      object \n",
      " 73  Fence          281 non-null    object \n",
      " 74  MiscFeature    54 non-null     object \n",
      " 75  MiscVal        1460 non-null   int64  \n",
      " 76  MoSold         1460 non-null   int64  \n",
      " 77  YrSold         1460 non-null   int64  \n",
      " 78  SaleType       1460 non-null   object \n",
      " 79  SaleCondition  1460 non-null   object \n",
      " 80  SalePrice      1460 non-null   int64  \n",
      "dtypes: float64(3), int64(35), object(43)\n",
      "memory usage: 924.0+ KB\n"
     ]
    }
   ],
   "source": [
    "# Your code here\n",
    "df.info()"
   ]
  },
  {
   "cell_type": "code",
   "execution_count": 3,
   "metadata": {
    "scrolled": true
   },
   "outputs": [
    {
     "data": {
      "text/html": [
       "<div>\n",
       "<style scoped>\n",
       "    .dataframe tbody tr th:only-of-type {\n",
       "        vertical-align: middle;\n",
       "    }\n",
       "\n",
       "    .dataframe tbody tr th {\n",
       "        vertical-align: top;\n",
       "    }\n",
       "\n",
       "    .dataframe thead th {\n",
       "        text-align: right;\n",
       "    }\n",
       "</style>\n",
       "<table border=\"1\" class=\"dataframe\">\n",
       "  <thead>\n",
       "    <tr style=\"text-align: right;\">\n",
       "      <th></th>\n",
       "      <th>Id</th>\n",
       "      <th>MSSubClass</th>\n",
       "      <th>MSZoning</th>\n",
       "      <th>LotFrontage</th>\n",
       "      <th>LotArea</th>\n",
       "      <th>Street</th>\n",
       "      <th>Alley</th>\n",
       "      <th>LotShape</th>\n",
       "      <th>LandContour</th>\n",
       "      <th>Utilities</th>\n",
       "      <th>...</th>\n",
       "      <th>PoolArea</th>\n",
       "      <th>PoolQC</th>\n",
       "      <th>Fence</th>\n",
       "      <th>MiscFeature</th>\n",
       "      <th>MiscVal</th>\n",
       "      <th>MoSold</th>\n",
       "      <th>YrSold</th>\n",
       "      <th>SaleType</th>\n",
       "      <th>SaleCondition</th>\n",
       "      <th>SalePrice</th>\n",
       "    </tr>\n",
       "  </thead>\n",
       "  <tbody>\n",
       "    <tr>\n",
       "      <th>0</th>\n",
       "      <td>1</td>\n",
       "      <td>60</td>\n",
       "      <td>RL</td>\n",
       "      <td>65.0</td>\n",
       "      <td>8450</td>\n",
       "      <td>Pave</td>\n",
       "      <td>NaN</td>\n",
       "      <td>Reg</td>\n",
       "      <td>Lvl</td>\n",
       "      <td>AllPub</td>\n",
       "      <td>...</td>\n",
       "      <td>0</td>\n",
       "      <td>NaN</td>\n",
       "      <td>NaN</td>\n",
       "      <td>NaN</td>\n",
       "      <td>0</td>\n",
       "      <td>2</td>\n",
       "      <td>2008</td>\n",
       "      <td>WD</td>\n",
       "      <td>Normal</td>\n",
       "      <td>208500</td>\n",
       "    </tr>\n",
       "    <tr>\n",
       "      <th>1</th>\n",
       "      <td>2</td>\n",
       "      <td>20</td>\n",
       "      <td>RL</td>\n",
       "      <td>80.0</td>\n",
       "      <td>9600</td>\n",
       "      <td>Pave</td>\n",
       "      <td>NaN</td>\n",
       "      <td>Reg</td>\n",
       "      <td>Lvl</td>\n",
       "      <td>AllPub</td>\n",
       "      <td>...</td>\n",
       "      <td>0</td>\n",
       "      <td>NaN</td>\n",
       "      <td>NaN</td>\n",
       "      <td>NaN</td>\n",
       "      <td>0</td>\n",
       "      <td>5</td>\n",
       "      <td>2007</td>\n",
       "      <td>WD</td>\n",
       "      <td>Normal</td>\n",
       "      <td>181500</td>\n",
       "    </tr>\n",
       "    <tr>\n",
       "      <th>2</th>\n",
       "      <td>3</td>\n",
       "      <td>60</td>\n",
       "      <td>RL</td>\n",
       "      <td>68.0</td>\n",
       "      <td>11250</td>\n",
       "      <td>Pave</td>\n",
       "      <td>NaN</td>\n",
       "      <td>IR1</td>\n",
       "      <td>Lvl</td>\n",
       "      <td>AllPub</td>\n",
       "      <td>...</td>\n",
       "      <td>0</td>\n",
       "      <td>NaN</td>\n",
       "      <td>NaN</td>\n",
       "      <td>NaN</td>\n",
       "      <td>0</td>\n",
       "      <td>9</td>\n",
       "      <td>2008</td>\n",
       "      <td>WD</td>\n",
       "      <td>Normal</td>\n",
       "      <td>223500</td>\n",
       "    </tr>\n",
       "    <tr>\n",
       "      <th>3</th>\n",
       "      <td>4</td>\n",
       "      <td>70</td>\n",
       "      <td>RL</td>\n",
       "      <td>60.0</td>\n",
       "      <td>9550</td>\n",
       "      <td>Pave</td>\n",
       "      <td>NaN</td>\n",
       "      <td>IR1</td>\n",
       "      <td>Lvl</td>\n",
       "      <td>AllPub</td>\n",
       "      <td>...</td>\n",
       "      <td>0</td>\n",
       "      <td>NaN</td>\n",
       "      <td>NaN</td>\n",
       "      <td>NaN</td>\n",
       "      <td>0</td>\n",
       "      <td>2</td>\n",
       "      <td>2006</td>\n",
       "      <td>WD</td>\n",
       "      <td>Abnorml</td>\n",
       "      <td>140000</td>\n",
       "    </tr>\n",
       "    <tr>\n",
       "      <th>4</th>\n",
       "      <td>5</td>\n",
       "      <td>60</td>\n",
       "      <td>RL</td>\n",
       "      <td>84.0</td>\n",
       "      <td>14260</td>\n",
       "      <td>Pave</td>\n",
       "      <td>NaN</td>\n",
       "      <td>IR1</td>\n",
       "      <td>Lvl</td>\n",
       "      <td>AllPub</td>\n",
       "      <td>...</td>\n",
       "      <td>0</td>\n",
       "      <td>NaN</td>\n",
       "      <td>NaN</td>\n",
       "      <td>NaN</td>\n",
       "      <td>0</td>\n",
       "      <td>12</td>\n",
       "      <td>2008</td>\n",
       "      <td>WD</td>\n",
       "      <td>Normal</td>\n",
       "      <td>250000</td>\n",
       "    </tr>\n",
       "  </tbody>\n",
       "</table>\n",
       "<p>5 rows × 81 columns</p>\n",
       "</div>"
      ],
      "text/plain": [
       "   Id  MSSubClass MSZoning  LotFrontage  LotArea Street Alley LotShape  \\\n",
       "0   1          60       RL         65.0     8450   Pave   NaN      Reg   \n",
       "1   2          20       RL         80.0     9600   Pave   NaN      Reg   \n",
       "2   3          60       RL         68.0    11250   Pave   NaN      IR1   \n",
       "3   4          70       RL         60.0     9550   Pave   NaN      IR1   \n",
       "4   5          60       RL         84.0    14260   Pave   NaN      IR1   \n",
       "\n",
       "  LandContour Utilities  ... PoolArea PoolQC Fence MiscFeature MiscVal MoSold  \\\n",
       "0         Lvl    AllPub  ...        0    NaN   NaN         NaN       0      2   \n",
       "1         Lvl    AllPub  ...        0    NaN   NaN         NaN       0      5   \n",
       "2         Lvl    AllPub  ...        0    NaN   NaN         NaN       0      9   \n",
       "3         Lvl    AllPub  ...        0    NaN   NaN         NaN       0      2   \n",
       "4         Lvl    AllPub  ...        0    NaN   NaN         NaN       0     12   \n",
       "\n",
       "  YrSold  SaleType  SaleCondition  SalePrice  \n",
       "0   2008        WD         Normal     208500  \n",
       "1   2007        WD         Normal     181500  \n",
       "2   2008        WD         Normal     223500  \n",
       "3   2006        WD        Abnorml     140000  \n",
       "4   2008        WD         Normal     250000  \n",
       "\n",
       "[5 rows x 81 columns]"
      ]
     },
     "execution_count": 3,
     "metadata": {},
     "output_type": "execute_result"
    }
   ],
   "source": [
    "df.head()"
   ]
  },
  {
   "cell_type": "markdown",
   "metadata": {},
   "source": [
    "- First, split the data into `X` (predictor) and `y` (target) variables \n",
    "- Split the data into 75-25 training-test sets. Set the `random_state` to 10 \n",
    "- Remove all columns of `object` type from `X_train` and `X_test` and assign them to `X_train_cont` and `X_test_cont`, respectively "
   ]
  },
  {
   "cell_type": "code",
   "execution_count": 7,
   "metadata": {},
   "outputs": [],
   "source": [
    "# Create X and y\n",
    "y = df.SalePrice\n",
    "X = df.drop(['SalePrice', 'Id'], axis=1)"
   ]
  },
  {
   "cell_type": "code",
   "execution_count": 139,
   "metadata": {},
   "outputs": [],
   "source": [
    "def remove_columns_by_type(dt, dtype):\n",
    "    not_dtype = dt.dtypes[dt.dtypes.values != dtype].index\n",
    "    return not_dtype"
   ]
  },
  {
   "cell_type": "code",
   "execution_count": 140,
   "metadata": {},
   "outputs": [],
   "source": [
    "# Split data into training and test sets\n",
    "X_train, X_test, y_train, y_test = train_test_split(X, y, test_size=25, random_state=10)\n",
    "\n",
    "# Remove \"object\"-type features from X\n",
    "cont_features = remove_columns_by_type(X, 'object')\n",
    "\n",
    "# Remove \"object\"-type features from X_train and X_test\n",
    "X_train_cont = X_train[cont_features]\n",
    "X_test_cont = X_test[cont_features]"
   ]
  },
  {
   "cell_type": "markdown",
   "metadata": {},
   "source": [
    "## Let's use this data to build a first naive linear regression model"
   ]
  },
  {
   "cell_type": "markdown",
   "metadata": {},
   "source": [
    "- Fill the missing values in data using median of the columns (use [`SimpleImputer`](https://scikit-learn.org/stable/modules/generated/sklearn.impute.SimpleImputer.html)) \n",
    "- Fit a linear regression model to this data \n",
    "- Compute the R-squared and the MSE for both the training and test sets \n"
   ]
  },
  {
   "cell_type": "code",
   "execution_count": 141,
   "metadata": {},
   "outputs": [
    {
     "data": {
      "text/plain": [
       "LinearRegression()"
      ]
     },
     "execution_count": 141,
     "metadata": {},
     "output_type": "execute_result"
    }
   ],
   "source": [
    "from sklearn.metrics import mean_squared_error, mean_squared_log_error, r2_score\n",
    "from sklearn.linear_model import LinearRegression\n",
    "from sklearn.impute import SimpleImputer\n",
    "\n",
    "# Impute missing values with median using SimpleImputer\n",
    "impute = SimpleImputer(missing_values=np.nan, strategy='median').fit(X_train_cont)\n",
    "X_train_imputed = pd.DataFrame(impute.transform(X_train_cont), columns=cont_features)\n",
    "X_test_imputed = pd.DataFrame(impute.transform(X_test_cont), columns=cont_features)\n",
    "\n",
    "# Fit the model\n",
    "linreg = LinearRegression()\n",
    "linreg.fit(X_train_imputed, y_train)"
   ]
  },
  {
   "cell_type": "code",
   "execution_count": 159,
   "metadata": {},
   "outputs": [],
   "source": [
    "def print_metrics(observations, predictions):\n",
    "    mse = mean_squared_error(observations, predictions)\n",
    "    r2 = r2_score(observations, predictions)\n",
    "    print('- MSE:', mse)\n",
    "    print('- R-Squared:', r2)\n",
    "    print()\n",
    "    return mse, r2"
   ]
  },
  {
   "cell_type": "code",
   "execution_count": 143,
   "metadata": {},
   "outputs": [
    {
     "name": "stdout",
     "output_type": "stream",
     "text": [
      "Training Set:\n",
      "- MSE: 1173712195.5072715\n",
      "- R-Squared: 0.8131421927426098\n",
      "\n",
      "Test Set:\n",
      "- MSE: 1475142062.4466474\n",
      "- R-Squared: 0.8030090017771176\n",
      "\n"
     ]
    }
   ],
   "source": [
    "# generate predictions for training & test sets\n",
    "y_pred_train = linreg.predict(X_train_imputed)\n",
    "y_pred_test = linreg.predict(X_test_imputed)\n",
    "\n",
    "# Print metrics for training set\n",
    "print(\"Training Set:\")\n",
    "print_metrics(y_train, y_pred_train)\n",
    "\n",
    "# Print metrics for test set\n",
    "print(\"Test Set:\")\n",
    "print_metrics(y_test, y_pred_test)"
   ]
  },
  {
   "cell_type": "markdown",
   "metadata": {},
   "source": [
    "## Normalize your data"
   ]
  },
  {
   "cell_type": "markdown",
   "metadata": {},
   "source": [
    "- Normalize your data using a `StandardScalar`  \n",
    "- Fit a linear regression model to this data \n",
    "- Compute the R-squared and the MSE for both the training and test sets \n"
   ]
  },
  {
   "cell_type": "code",
   "execution_count": 144,
   "metadata": {},
   "outputs": [
    {
     "name": "stdout",
     "output_type": "stream",
     "text": [
      "Training Set:\n",
      "- MSE: 1173724960.128814\n",
      "- R-Squared: 0.8131401605841292\n",
      "\n",
      "Test Set:\n",
      "- MSE: 1474442758.7329516\n",
      "- R-Squared: 0.8031023870449701\n",
      "\n"
     ]
    }
   ],
   "source": [
    "from sklearn.preprocessing import StandardScaler\n",
    "\n",
    "# Scale the train and test data\n",
    "ss = StandardScaler().fit(X_train_imputed)\n",
    "X_train_imputed_scaled = pd.DataFrame(ss.transform(X_train_imputed), columns=cont_features)\n",
    "X_test_imputed_scaled = pd.DataFrame(ss.transform(X_test_imputed), columns=cont_features)\n",
    "\n",
    "# Fit the model\n",
    "linreg_norm = LinearRegression()\n",
    "linreg_norm.fit(X_train_imputed_scaled, y_train)\n",
    "\n",
    "# Generate predictions:\n",
    "y_pred_train_scaled = linreg_norm.predict(X_train_imputed_scaled)\n",
    "y_pred_test_scaled = linreg_norm.predict(X_test_imputed_scaled)\n",
    "\n",
    "# Print metrics for training set\n",
    "print(\"Training Set:\")\n",
    "print_metrics(y_train, y_pred_train_scaled)\n",
    "\n",
    "# Print metrics for test set\n",
    "print(\"Test Set:\")\n",
    "print_metrics(y_test, y_pred_test_scaled)"
   ]
  },
  {
   "cell_type": "markdown",
   "metadata": {},
   "source": [
    "## Include categorical variables"
   ]
  },
  {
   "cell_type": "markdown",
   "metadata": {},
   "source": [
    "The above models didn't include categorical variables so far, let's include them! \n",
    "\n",
    "\n",
    "- Include all columns of `object` type from `X_train` and `X_test` and assign them to `X_train_cat` and `X_test_cat`, respectively \n",
    "- Fill missing values in all these columns with the string `'missing'` "
   ]
  },
  {
   "cell_type": "code",
   "execution_count": 145,
   "metadata": {},
   "outputs": [],
   "source": [
    "# Create X_cat which contains only the categorical variables\n",
    "features_cat = list(set(X.columns) - set(cont_features))\n",
    "X_train_cat = X_train[features_cat]\n",
    "X_test_cat = X_test[features_cat]\n",
    "\n",
    "# Fill missing values with the string 'missing'\n",
    "X_train_cat.fillna('missing', inplace=True)\n",
    "X_test_cat.fillna('missing', inplace=True)"
   ]
  },
  {
   "cell_type": "markdown",
   "metadata": {},
   "source": [
    "- One-hot encode all these categorical columns using `OneHotEncoder` \n",
    "- Transform the training and test DataFrames (`X_train_cat`) and (`X_test_cat`) \n",
    "- Run the given code to convert these transformed features into DataFrames "
   ]
  },
  {
   "cell_type": "code",
   "execution_count": 146,
   "metadata": {},
   "outputs": [],
   "source": [
    "from sklearn.preprocessing import OneHotEncoder\n",
    "\n",
    "# OneHotEncode categorical variables fitted to training set\n",
    "ohe = OneHotEncoder(drop='first').fit(X_train_cat)\n",
    "\n",
    "# Transform both training & test sets:\n",
    "X_train_ohe = ohe.transform(X_train_cat)\n",
    "X_test_ohe = ohe.transform(X_test_cat)\n",
    "\n",
    "# Convert these columns into a DataFrame\n",
    "columns = ohe.get_feature_names(X_train_cat.columns)\n",
    "cat_train_df = pd.DataFrame(X_train_ohe.todense(), columns=columns)\n",
    "cat_test_df = pd.DataFrame(X_test_ohe.todense(), columns=columns)"
   ]
  },
  {
   "cell_type": "markdown",
   "metadata": {},
   "source": [
    "- Combine `X_train_imputed_scaled` and `cat_train_df` into a single DataFrame  \n",
    "- Similarly, combine `X_test_imputed_scaled` and `cat_test_df` into a single DataFrame "
   ]
  },
  {
   "cell_type": "code",
   "execution_count": 148,
   "metadata": {},
   "outputs": [],
   "source": [
    "# Your code here\n",
    "X_train_all = pd.concat([X_train_imputed_scaled, cat_train_df], axis=1)\n",
    "X_test_all = pd.concat([X_test_imputed_scaled, cat_test_df], axis=1)"
   ]
  },
  {
   "cell_type": "markdown",
   "metadata": {},
   "source": [
    "Now build a linear regression model using all the features (`X_train_all`). Also, print the R-squared and the MSE for both the training and test sets. "
   ]
  },
  {
   "cell_type": "code",
   "execution_count": 188,
   "metadata": {},
   "outputs": [
    {
     "name": "stdout",
     "output_type": "stream",
     "text": [
      "Training Set:\n",
      "- MSE: 415430938.3489134\n",
      "- R-Squared: 0.9338623944576052\n",
      "\n",
      "Test Set:\n",
      "- MSE: 846798095.9244462\n",
      "- R-Squared: 0.8869182796315077\n",
      "\n"
     ]
    }
   ],
   "source": [
    "# Fit the model\n",
    "linreg_all = LinearRegression().fit(X_train_all, y_train)\n",
    "\n",
    "# Generate predictions for both training & test sets\n",
    "y_train_pred_all = linreg_all.predict(X_train_all)\n",
    "y_test_pred_all = linreg_all.predict(X_test_all)\n",
    "\n",
    "# print out metrics (MSE & R2) for both training & test sets\n",
    "# Training\n",
    "print(\"Training Set:\")\n",
    "linreg_metrics_train = print_metrics(y_train, y_train_pred_all)\n",
    "\n",
    "# Test\n",
    "print(\"Test Set:\")\n",
    "linreg_metrics_test = print_metrics(y_test, y_test_pred_all)"
   ]
  },
  {
   "cell_type": "markdown",
   "metadata": {},
   "source": [
    "Notice the severe overfitting above; our training R-squared is very high, but the test R-squared is negative! Similarly, the scale of the test MSE is orders of magnitude higher than that of the training MSE."
   ]
  },
  {
   "cell_type": "markdown",
   "metadata": {},
   "source": [
    "## Ridge and Lasso regression"
   ]
  },
  {
   "cell_type": "markdown",
   "metadata": {},
   "source": [
    "Use all the data (normalized features and dummy categorical variables, `X_train_all`) to build two models - one each for Lasso and Ridge regression. Each time, look at R-squared and MSE. "
   ]
  },
  {
   "cell_type": "code",
   "execution_count": 151,
   "metadata": {},
   "outputs": [],
   "source": [
    "from sklearn.linear_model import Lasso, Ridge"
   ]
  },
  {
   "cell_type": "markdown",
   "metadata": {},
   "source": [
    "## Lasso"
   ]
  },
  {
   "cell_type": "markdown",
   "metadata": {},
   "source": [
    "#### With default parameter (alpha = 1)"
   ]
  },
  {
   "cell_type": "code",
   "execution_count": 191,
   "metadata": {},
   "outputs": [
    {
     "name": "stdout",
     "output_type": "stream",
     "text": [
      "Training Set:\n",
      "- MSE: 416348842.23208976\n",
      "- R-Squared: 0.9337162619495339\n",
      "\n",
      "Test Set:\n",
      "- MSE: 846479932.0792089\n",
      "- R-Squared: 0.8869607673451099\n",
      "\n"
     ]
    }
   ],
   "source": [
    "# Your code here\n",
    "lasso_1 = Lasso()\n",
    "lasso_1.fit(X_train_all, y_train)\n",
    "\n",
    "y_pred_train_lasso = lasso_1.predict(X_train_all)\n",
    "y_pred_test_lasso = lasso_1.predict(X_test_all)\n",
    "\n",
    "# print out metrics (MSE & R2) for both training & test sets\n",
    "# Training\n",
    "print(\"Training Set:\")\n",
    "lasso_train_metrics_1 = print_metrics(y_train, y_pred_train_lasso)\n",
    "\n",
    "# Test\n",
    "print(\"Test Set:\")\n",
    "lasso_test_metrics_1 = print_metrics(y_test, y_pred_test_lasso)"
   ]
  },
  {
   "cell_type": "markdown",
   "metadata": {},
   "source": [
    "#### With a higher regularization parameter (alpha = 10)"
   ]
  },
  {
   "cell_type": "code",
   "execution_count": 192,
   "metadata": {},
   "outputs": [
    {
     "name": "stdout",
     "output_type": "stream",
     "text": [
      "Training Set:\n",
      "- MSE: 449005105.0291533\n",
      "- R-Squared: 0.9285173062917178\n",
      "\n",
      "Test Set:\n",
      "- MSE: 858590507.9739647\n",
      "- R-Squared: 0.885343516711903\n",
      "\n"
     ]
    }
   ],
   "source": [
    "# Your code here\n",
    "lasso_10 = Lasso(alpha=10)\n",
    "lasso_10.fit(X_train_all, y_train)\n",
    "\n",
    "y_pred_train_lasso = lasso_10.predict(X_train_all)\n",
    "y_pred_test_lasso = lasso_10.predict(X_test_all)\n",
    "\n",
    "# print out metrics (MSE & R2) for both training & test sets\n",
    "# Training\n",
    "print(\"Training Set:\")\n",
    "lasso_train_metrics_10 = print_metrics(y_train, y_pred_train_lasso)\n",
    "\n",
    "# Test\n",
    "print(\"Test Set:\")\n",
    "lasso_test_metrics_10 = print_metrics(y_test, y_pred_test_lasso)"
   ]
  },
  {
   "cell_type": "markdown",
   "metadata": {},
   "source": [
    "## Ridge"
   ]
  },
  {
   "cell_type": "markdown",
   "metadata": {},
   "source": [
    "#### With default parameter (alpha = 1)"
   ]
  },
  {
   "cell_type": "code",
   "execution_count": 193,
   "metadata": {},
   "outputs": [
    {
     "name": "stdout",
     "output_type": "stream",
     "text": [
      "Training Set:\n",
      "- MSE: 538795298.1654778\n",
      "- R-Squared: 0.914222491372955\n",
      "\n",
      "Test Set:\n",
      "- MSE: 911378520.968107\n",
      "- R-Squared: 0.8782941865906594\n",
      "\n"
     ]
    }
   ],
   "source": [
    "# Your code here\n",
    "ridge_1 = Ridge()\n",
    "ridge_1.fit(X_train_all, y_train)\n",
    "\n",
    "y_pred_train_ridge = ridge_1.predict(X_train_all)\n",
    "y_pred_test_ridge = ridge_1.predict(X_test_all)\n",
    "\n",
    "# print out metrics (MSE & R2) for both training & test sets\n",
    "# Training\n",
    "print(\"Training Set:\")\n",
    "ridge_train_metrics_1 = print_metrics(y_train, y_pred_train_ridge)\n",
    "\n",
    "# Test\n",
    "print(\"Test Set:\")\n",
    "ridge_test_metrics_1 = print_metrics(y_test, y_pred_test_ridge)"
   ]
  },
  {
   "cell_type": "markdown",
   "metadata": {},
   "source": [
    "#### With default parameter (alpha = 10)"
   ]
  },
  {
   "cell_type": "code",
   "execution_count": 194,
   "metadata": {},
   "outputs": [
    {
     "name": "stdout",
     "output_type": "stream",
     "text": [
      "Training Set:\n",
      "- MSE: 648599755.0834851\n",
      "- R-Squared: 0.8967413574754582\n",
      "\n",
      "Test Set:\n",
      "- MSE: 959213575.4773935\n",
      "- R-Squared: 0.8719062763156304\n",
      "\n"
     ]
    }
   ],
   "source": [
    "# Your code here\n",
    "# Your code here\n",
    "ridge_10 = Ridge(alpha=10)\n",
    "ridge_10.fit(X_train_all, y_train)\n",
    "\n",
    "y_pred_train_ridge = ridge_10.predict(X_train_all)\n",
    "y_pred_test_ridge = ridge_10.predict(X_test_all)\n",
    "\n",
    "# print out metrics (MSE & R2) for both training & test sets\n",
    "# Training\n",
    "print(\"Training Set:\")\n",
    "ridge_train_metrics_10 = print_metrics(y_train, y_pred_train_ridge)\n",
    "\n",
    "# Test\n",
    "print(\"Test Set:\")\n",
    "ridge_test_metrics_10 = print_metrics(y_test, y_pred_test_ridge)"
   ]
  },
  {
   "cell_type": "markdown",
   "metadata": {},
   "source": [
    "## Compare the metrics    \n",
    "\n",
    "Write your conclusions here: \n",
    "_________________________________\n"
   ]
  },
  {
   "cell_type": "code",
   "execution_count": 190,
   "metadata": {},
   "outputs": [
    {
     "name": "stdout",
     "output_type": "stream",
     "text": [
      "Regression\talpha\t\tSet\t\tMSE\t\t\tR-Squared\n",
      "Linear\t\tn/a\t\tTraining\t415430938.3489134\t0.9338623944576052\n",
      "Linear\t\tn/a\t\tTest\t\t846798095.9244462\t0.8869182796315077\n",
      "\n",
      "Lasso\t\t1\t\tTraining\t416348842.23208976\t0.9337162619495339\n",
      "Lasso\t\t1\t\tTest\t\t846479932.0792089\t0.8869607673451099\n",
      "\n",
      "Lasso\t\t10\t\tTraining\t449005105.0291533\t0.9285173062917178\n",
      "Lasso\t\t10\t\tTest\t\t858590507.9739647\t0.885343516711903\n",
      "\n",
      "Ridge\t\t1\t\tTraining\t538795298.1654778\t0.914222491372955\n",
      "Ridge\t\t1\t\tTest\t\t911378520.968107\t0.8782941865906594\n",
      "\n",
      "Ridge\t\t10\t\tTraining\t648599755.0834851\t0.8967413574754582\n",
      "Ridge\t\t10\t\tTest\t\t959213575.4773935\t0.8719062763156304\n"
     ]
    }
   ],
   "source": [
    "print('Regression\\talpha\\t\\tSet\\t\\tMSE\\t\\t\\tR-Squared')\n",
    "print(f'Linear\\t\\tn/a\\t\\tTraining\\t{linreg_metrics_train[0]}\\t{linreg_metrics_train[1]}')\n",
    "print(f'Linear\\t\\tn/a\\t\\tTest\\t\\t{linreg_metrics_test[0]}\\t{linreg_metrics_test[1]}')\n",
    "print()\n",
    "print(f'Lasso\\t\\t1\\t\\tTraining\\t{lasso_train_metrics_1[0]}\\t{lasso_train_metrics_1[1]}')\n",
    "print(f'Lasso\\t\\t1\\t\\tTest\\t\\t{lasso_test_metrics_1[0]}\\t{lasso_test_metrics_1[1]}')\n",
    "print()\n",
    "print(f'Lasso\\t\\t10\\t\\tTraining\\t{lasso_train_metrics_10[0]}\\t{lasso_train_metrics_10[1]}')\n",
    "print(f'Lasso\\t\\t10\\t\\tTest\\t\\t{lasso_test_metrics_10[0]}\\t{lasso_test_metrics_10[1]}')\n",
    "print()\n",
    "print(f'Ridge\\t\\t1\\t\\tTraining\\t{ridge_train_metrics_1[0]}\\t{ridge_train_metrics_1[1]}')\n",
    "print(f'Ridge\\t\\t1\\t\\tTest\\t\\t{ridge_test_metrics_1[0]}\\t{ridge_test_metrics_1[1]}')\n",
    "print()\n",
    "print(f'Ridge\\t\\t10\\t\\tTraining\\t{ridge_train_metrics_10[0]}\\t{ridge_train_metrics_10[1]}')\n",
    "print(f'Ridge\\t\\t10\\t\\tTest\\t\\t{ridge_test_metrics_10[0]}\\t{ridge_test_metrics_10[1]}')"
   ]
  },
  {
   "cell_type": "markdown",
   "metadata": {},
   "source": [
    "Between Ridge and Lasso, Lasso seems to be performing better with a test R-Squared of 0.8869607673451099 at alpha = 1, compared to the Ridge's R-Squared of 0.8782941865906594 at the same alpha. \n",
    "\n",
    "However, if we're using Linear Regression model without regularization as baseline, only R-squared of Lasso at alpha = 1 is higher. "
   ]
  },
  {
   "cell_type": "markdown",
   "metadata": {},
   "source": [
    "## Compare number of parameter estimates that are (very close to) 0 for Ridge and Lasso\n",
    "\n",
    "Use 10**(-10) as an estimate that is very close to 0. "
   ]
  },
  {
   "cell_type": "code",
   "execution_count": 208,
   "metadata": {},
   "outputs": [],
   "source": [
    "thresh = 10**(-10)"
   ]
  },
  {
   "cell_type": "code",
   "execution_count": 214,
   "metadata": {},
   "outputs": [
    {
     "name": "stdout",
     "output_type": "stream",
     "text": [
      "alpha = 1:\n",
      "0\n",
      "alpha = 10:\n",
      "0\n"
     ]
    }
   ],
   "source": [
    "# Number of Ridge params almost zero\n",
    "print('alpha = 1:')\n",
    "print(sum(np.abs(ridge_1.coef_) < thresh))\n",
    "\n",
    "print('alpha = 10:')\n",
    "print(sum(np.abs(ridge_10.coef_) < thresh))"
   ]
  },
  {
   "cell_type": "code",
   "execution_count": 215,
   "metadata": {},
   "outputs": [
    {
     "name": "stdout",
     "output_type": "stream",
     "text": [
      "alpha = 1:\n",
      "8\n",
      "alpha = 10:\n",
      "49\n"
     ]
    }
   ],
   "source": [
    "# Number of Lasso params almost zero\n",
    "print('alpha = 1:')\n",
    "print(sum(np.abs(lasso_1.coef_) < thresh))\n",
    "\n",
    "print('alpha = 10:')\n",
    "print(sum(np.abs(lasso_10.coef_) < thresh))"
   ]
  },
  {
   "cell_type": "code",
   "execution_count": 210,
   "metadata": {},
   "outputs": [
    {
     "name": "stdout",
     "output_type": "stream",
     "text": [
      "261\n",
      "0.18773946360153257\n"
     ]
    }
   ],
   "source": [
    "print(len(lasso_10.coef_))\n",
    "print(sum(abs(lasso_10.coef_) < 10**(-10)) / len(lasso_10.coef_))"
   ]
  },
  {
   "cell_type": "markdown",
   "metadata": {},
   "source": [
    "Lasso was very effective to essentially perform variable selection and remove about 25% of the variables from your model!\n",
    "\n",
    "--> My version of Lasso only removes around 18% of the variables\n",
    "\n",
    "Overall my models generate slightly different metrics compared to the solution. This could be due to:\n",
    "- The solution keeps `'Id'` column in X, which I do not think is the accurate way to handle 'ID' columns in general.\n",
    "- OneHotEncoder of the solution does not drop one of the values"
   ]
  },
  {
   "cell_type": "markdown",
   "metadata": {},
   "source": [
    "## Put it all together"
   ]
  },
  {
   "cell_type": "markdown",
   "metadata": {},
   "source": [
    "To bring all of our work together lets take a moment to put all of our preprocessing steps for categorical and continuous variables into one function. This function should take in our features as a dataframe `X` and target as a Series `y` and return a training and test DataFrames with all of our preprocessed features along with training and test targets. "
   ]
  },
  {
   "cell_type": "code",
   "execution_count": 218,
   "metadata": {},
   "outputs": [],
   "source": [
    "def preprocess(X, y):\n",
    "    '''Takes in features and target and implements all preprocessing steps for categorical and continuous features returning \n",
    "    train and test DataFrames with targets'''\n",
    "    \n",
    "    # Train-test split (75-25), set seed to 10\n",
    "    X_train, X_test, y_train, y_test = train_test_split(X, y, random_state=10)\n",
    "    \n",
    "    \n",
    "    # Remove \"object\"-type features and SalesPrice from X\n",
    "    cont_features = remove_columns_by_type(X, 'object')\n",
    "    # Remove \"object\"-type features from X_train and X_test\n",
    "    X_train_cont = X_train[cont_features]\n",
    "    X_test_cont = X_test[cont_features]\n",
    "\n",
    "    \n",
    "    # Impute missing values with median using SimpleImputer\n",
    "    impute = SimpleImputer(missing_values=np.nan, strategy='median').fit(X_train_cont)\n",
    "    X_train_imputed = pd.DataFrame(impute.transform(X_train_cont), columns=cont_features)\n",
    "    X_test_imputed = pd.DataFrame(impute.transform(X_test_cont), columns=cont_features)\n",
    "\n",
    "\n",
    "    # Scale the train and test data\n",
    "    ss = StandardScaler().fit(X_train_imputed)\n",
    "    X_train_imputed_scaled = pd.DataFrame(ss.transform(X_train_imputed), columns=cont_features)\n",
    "    X_test_imputed_scaled = pd.DataFrame(ss.transform(X_test_imputed), columns=cont_features)\n",
    "\n",
    "\n",
    "    # Create X_cat which contains only the categorical variables\n",
    "    features_cat = list(set(X.columns) - set(cont_features))\n",
    "    X_train_cat = X_train[features_cat]\n",
    "    X_test_cat = X_test[features_cat]\n",
    "\n",
    "\n",
    "    # Fill nans with a value indicating that that it is missing\n",
    "    X_train_cat.fillna('missing', inplace=True)\n",
    "    X_test_cat.fillna('missing', inplace=True)\n",
    "\n",
    "\n",
    "    # OneHotEncode Categorical variables\n",
    "    ohe = OneHotEncoder(handle_unknown='ignore').fit(X_train_cat)\n",
    "    \n",
    "    # Transform both training & test sets:\n",
    "    X_train_ohe = ohe.transform(X_train_cat)\n",
    "    X_test_ohe = ohe.transform(X_test_cat)\n",
    "    \n",
    "    # Convert these columns into a DataFrame\n",
    "    columns = ohe.get_feature_names(X_train_cat.columns)\n",
    "    cat_train_df = pd.DataFrame(X_train_ohe.todense(), columns=columns)\n",
    "    cat_test_df = pd.DataFrame(X_test_ohe.todense(), columns=columns)\n",
    "\n",
    "    \n",
    "    # Combine categorical and continuous features into the final dataframe\n",
    "    X_train_all = pd.concat([X_train_imputed_scaled, cat_train_df], axis=1)\n",
    "    X_test_all = pd.concat([X_test_imputed_scaled, cat_test_df], axis=1)\n",
    "    \n",
    "    return X_train_all, X_test_all, y_train, y_test"
   ]
  },
  {
   "cell_type": "markdown",
   "metadata": {},
   "source": [
    "### Graph the training and test error to find optimal alpha values\n",
    "\n",
    "Earlier we tested two values of alpha to see how it effected our MSE and the value of our coefficients. We could continue to guess values of alpha for our Ridge or Lasso regression one at a time to see which values minimize our loss, or we can test a range of values and pick the alpha which minimizes our MSE. Here is an example of how we would do this:  "
   ]
  },
  {
   "cell_type": "code",
   "execution_count": 219,
   "metadata": {},
   "outputs": [],
   "source": [
    "X_train_all, X_test_all, y_train, y_test = preprocess(X, y)\n",
    "\n",
    "train_mse = []\n",
    "test_mse = []\n",
    "alphas = []\n",
    "\n",
    "for alpha in np.linspace(0, 200, num=50):\n",
    "    lasso = Lasso(alpha=alpha)\n",
    "    lasso.fit(X_train_all, y_train)\n",
    "    \n",
    "    train_preds = lasso.predict(X_train_all)\n",
    "    train_mse.append(mean_squared_error(y_train, train_preds))\n",
    "    \n",
    "    test_preds = lasso.predict(X_test_all)\n",
    "    test_mse.append(mean_squared_error(y_test, test_preds))\n",
    "    \n",
    "    alphas.append(alpha)"
   ]
  },
  {
   "cell_type": "code",
   "execution_count": 220,
   "metadata": {},
   "outputs": [
    {
     "name": "stdout",
     "output_type": "stream",
     "text": [
      "Optimal Alpha Value: 40\n"
     ]
    },
    {
     "data": {
      "image/png": "[encoded data removed]",
      "text/plain": [
       "<Figure size 432x288 with 1 Axes>"
      ]
     },
     "metadata": {
      "needs_background": "light"
     },
     "output_type": "display_data"
    }
   ],
   "source": [
    "import matplotlib.pyplot as plt\n",
    "%matplotlib inline\n",
    "\n",
    "fig, ax = plt.subplots()\n",
    "ax.plot(alphas, train_mse, label='Train')\n",
    "ax.plot(alphas, test_mse, label='Test')\n",
    "ax.set_xlabel('Alpha')\n",
    "ax.set_ylabel('MSE')\n",
    "\n",
    "# np.argmin() returns the index of the minimum value in a list\n",
    "optimal_alpha = alphas[np.argmin(test_mse)]\n",
    "\n",
    "# Add a vertical line where the test MSE is minimized\n",
    "ax.axvline(optimal_alpha, color='black', linestyle='--')\n",
    "ax.legend();\n",
    "\n",
    "print(f'Optimal Alpha Value: {int(optimal_alpha)}')"
   ]
  },
  {
   "cell_type": "markdown",
   "metadata": {},
   "source": [
    "Take a look at this graph of our training and test MSE against alpha. Try to explain to yourself why the shapes of the training and test curves are this way. Make sure to think about what alpha represents and how it relates to overfitting vs underfitting."
   ]
  },
  {
   "cell_type": "markdown",
   "metadata": {},
   "source": [
    "## Summary\n",
    "\n",
    "Well done! You now know how to build Lasso and Ridge regression models, use them for feature selection and find an optimal value for $\\text{alpha}$. "
   ]
  }
 ],
 "metadata": {
  "kernelspec": {
   "display_name": "Python 3",
   "language": "python",
   "name": "python3"
  },
  "language_info": {
   "codemirror_mode": {
    "name": "ipython",
    "version": 3
   },
   "file_extension": ".py",
   "mimetype": "text/x-python",
   "name": "python",
   "nbconvert_exporter": "python",
   "pygments_lexer": "ipython3",
   "version": "3.8.5"
  }
 },
 "nbformat": 4,
 "nbformat_minor": 2
}
